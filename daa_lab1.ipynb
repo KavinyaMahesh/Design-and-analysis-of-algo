{
  "nbformat": 4,
  "nbformat_minor": 0,
  "metadata": {
    "colab": {
      "provenance": [],
      "authorship_tag": "ABX9TyNLwsQY1eKdHZ0wxK3hDqbH",
      "include_colab_link": true
    },
    "kernelspec": {
      "name": "python3",
      "display_name": "Python 3"
    },
    "language_info": {
      "name": "python"
    }
  },
  "cells": [
    {
      "cell_type": "markdown",
      "metadata": {
        "id": "view-in-github",
        "colab_type": "text"
      },
      "source": [
        "<a href=\"https://colab.research.google.com/github/KavinyaMahesh/Design-and-analysis-of-algo/blob/main/daa_lab1.ipynb\" target=\"_parent\"><img src=\"https://colab.research.google.com/assets/colab-badge.svg\" alt=\"Open In Colab\"/></a>"
      ]
    },
    {
      "cell_type": "code",
      "execution_count": 32,
      "metadata": {
        "colab": {
          "base_uri": "https://localhost:8080/"
        },
        "id": "k5lRNCRIKitC",
        "outputId": "cd0b43a9-859f-48ad-bbf2-77039cdd4670"
      },
      "outputs": [
        {
          "output_type": "stream",
          "name": "stdout",
          "text": [
            "Sorted array is:\n",
            " 1  9  11  17  18  44  49  64  69  92  113  118  135  141  157  181  183  188  202  210  211  214  216  220  244  258  268  268  274  297  309  310  314  323  328  334  341  346  349  363  364  364  372  384  388  417  436  439  445  458  469  479  482  499  511  517  529  576  585  600  601  616  624  627  628  630  647  651  655  673  688  696  700  719  719  730  731  740  742  767  806  814  822  827  830  832  833  838  847  894  894  896  905  939  943  966  968  984  986  986 \n",
            "--- 6.6661834716796875 milli seconds ---\n"
          ]
        }
      ],
      "source": [
        "\n",
        "#bubble sort\n",
        "import time\n",
        "import random\n",
        "start_time = time.time()\n",
        "\n",
        "def bubbleSort(arr):\n",
        "    n = len(arr)\n",
        "\n",
        "    swapped = False\n",
        "\n",
        "    for i in range(n-1):\n",
        "        for j in range(0, n-i-1):\n",
        "            if arr[j] > arr[j + 1]:\n",
        "                swapped = True\n",
        "                arr[j], arr[j + 1] = arr[j + 1], arr[j]\n",
        "        if not swapped:\n",
        "            return\n",
        "\n",
        "arr = [random.randint(1, 1000) for _ in range(100)]\n",
        "\n",
        "bubbleSort(arr)\n",
        "\n",
        "print(\"Sorted array is:\")\n",
        "for i in range(len(arr)):\n",
        "    print(\"% d\" % arr[i], end=\" \")\n",
        "print()\n",
        "print(\"--- %s milli seconds ---\" % ((time.time() - start_time)*1000))"
      ]
    },
    {
      "cell_type": "code",
      "source": [
        "#python inbuilt-timsort\n",
        "import time\n",
        "import random\n",
        "start_time = time.time()\n",
        "arr = [random.randint(1, 1000) for _ in range(100)]\n",
        "arr.sort()\n",
        "print(arr)\n",
        "print(\"--- %s milli seconds ---\" % ((time.time() - start_time)*1000))"
      ],
      "metadata": {
        "colab": {
          "base_uri": "https://localhost:8080/"
        },
        "id": "cFis53_oKvLX",
        "outputId": "58fc7108-381b-40ed-d288-79c198e6722e"
      },
      "execution_count": 29,
      "outputs": [
        {
          "output_type": "stream",
          "name": "stdout",
          "text": [
            "[15, 15, 57, 70, 77, 121, 124, 131, 137, 141, 147, 157, 162, 165, 171, 179, 199, 209, 209, 212, 216, 249, 259, 277, 277, 284, 292, 296, 297, 300, 331, 341, 356, 357, 360, 364, 391, 392, 404, 405, 417, 433, 443, 445, 463, 471, 478, 483, 492, 493, 501, 508, 517, 518, 523, 524, 525, 534, 538, 539, 540, 554, 559, 571, 584, 592, 597, 603, 638, 656, 659, 667, 694, 699, 732, 735, 755, 770, 780, 824, 825, 836, 844, 849, 860, 860, 891, 900, 906, 920, 925, 927, 930, 937, 942, 963, 969, 994, 995, 999]\n",
            "--- 0.39005279541015625 milli seconds ---\n"
          ]
        }
      ]
    },
    {
      "cell_type": "code",
      "source": [
        "#insertion sort\n",
        "import time\n",
        "import random\n",
        "start_time = time.time()\n",
        "def insertionSort(arr):\n",
        "    n = len(arr)\n",
        "\n",
        "    if n <= 1:\n",
        "        return\n",
        "\n",
        "    for i in range(1, n):\n",
        "        key = arr[i]\n",
        "        j = i-1\n",
        "        while j >= 0 and key < arr[j]:\n",
        "            arr[j+1] = arr[j]\n",
        "            j -= 1\n",
        "        arr[j+1] = key\n",
        "\n",
        "arr = [random.randint(1, 1000) for _ in range(100)]\n",
        "insertionSort(arr)\n",
        "print(arr)\n",
        "\n",
        "print(\"--- %s milli seconds ---\" % ((time.time() - start_time)*1000))"
      ],
      "metadata": {
        "colab": {
          "base_uri": "https://localhost:8080/"
        },
        "id": "DLGdLwqFMHrs",
        "outputId": "900062fc-4a98-4d0b-98e9-d355e1e58f6f"
      },
      "execution_count": 30,
      "outputs": [
        {
          "output_type": "stream",
          "name": "stdout",
          "text": [
            "[19, 19, 26, 27, 41, 56, 60, 68, 79, 90, 96, 109, 109, 124, 125, 125, 133, 134, 145, 148, 168, 178, 182, 193, 201, 202, 203, 204, 206, 241, 243, 251, 254, 256, 258, 261, 273, 312, 353, 367, 398, 398, 399, 412, 414, 422, 438, 472, 491, 493, 495, 498, 509, 526, 531, 533, 535, 537, 555, 561, 567, 571, 611, 616, 620, 629, 629, 634, 675, 686, 691, 694, 695, 709, 729, 733, 740, 742, 747, 750, 755, 775, 789, 789, 791, 811, 842, 846, 856, 906, 924, 925, 931, 931, 932, 943, 949, 953, 965, 988]\n",
            "--- 1.6694068908691406 milli seconds ---\n"
          ]
        }
      ]
    },
    {
      "cell_type": "code",
      "source": [
        "#selection sort\n",
        "import time\n",
        "import random\n",
        "\n",
        "start_time = time.time()\n",
        "\n",
        "def selection_sort(arr):\n",
        "    n = len(arr)\n",
        "\n",
        "    for i in range(n):\n",
        "        min_idx = i\n",
        "        for j in range(i+1, n):\n",
        "            if arr[j] < arr[min_idx]:\n",
        "                min_idx = j\n",
        "        arr[i], arr[min_idx] = arr[min_idx], arr[i]\n",
        "\n",
        "arr = [random.randint(1, 1000) for _ in range(100)]\n",
        "selection_sort(arr)\n",
        "print(arr)\n",
        "\n",
        "# Calculate and print the execution time in milliseconds\n",
        "print(\"--- %s milliseconds ---\" % ((time.time() - start_time) * 1000))\n"
      ],
      "metadata": {
        "colab": {
          "base_uri": "https://localhost:8080/"
        },
        "id": "_iPprwh3MyZw",
        "outputId": "09bc28f3-e8b5-4471-c381-1ae42e72cacb"
      },
      "execution_count": 31,
      "outputs": [
        {
          "output_type": "stream",
          "name": "stdout",
          "text": [
            "[11, 20, 20, 45, 69, 73, 75, 87, 106, 129, 134, 140, 168, 200, 216, 217, 219, 220, 226, 234, 240, 243, 261, 268, 273, 280, 335, 354, 354, 360, 370, 371, 382, 396, 397, 401, 409, 427, 455, 466, 467, 473, 473, 482, 484, 492, 497, 502, 503, 508, 526, 532, 544, 547, 547, 568, 587, 592, 596, 600, 618, 646, 648, 679, 679, 726, 732, 740, 745, 746, 769, 785, 790, 792, 796, 804, 811, 812, 815, 843, 845, 851, 852, 854, 879, 879, 896, 900, 903, 907, 916, 938, 963, 974, 976, 981, 984, 987, 990, 998]\n",
            "--- 1.4617443084716797 milliseconds ---\n"
          ]
        }
      ]
    }
  ]
}