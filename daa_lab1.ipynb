{
  "nbformat": 4,
  "nbformat_minor": 0,
  "metadata": {
    "colab": {
      "provenance": [],
      "authorship_tag": "ABX9TyPiO5OH+pAmi+3i0hAEez24",
      "include_colab_link": true
    },
    "kernelspec": {
      "name": "python3",
      "display_name": "Python 3"
    },
    "language_info": {
      "name": "python"
    }
  },
  "cells": [
    {
      "cell_type": "markdown",
      "metadata": {
        "id": "view-in-github",
        "colab_type": "text"
      },
      "source": [
        "<a href=\"https://colab.research.google.com/github/KavinyaMahesh/Design-and-analysis-of-algo/blob/main/daa_lab1.ipynb\" target=\"_parent\"><img src=\"https://colab.research.google.com/assets/colab-badge.svg\" alt=\"Open In Colab\"/></a>"
      ]
    },
    {
      "cell_type": "code",
      "execution_count": 25,
      "metadata": {
        "colab": {
          "base_uri": "https://localhost:8080/"
        },
        "id": "k5lRNCRIKitC",
        "outputId": "a547dd5c-b7e6-4730-c1fd-1789e359e7c1"
      },
      "outputs": [
        {
          "output_type": "stream",
          "name": "stdout",
          "text": [
            "Sorted array is:\n",
            " 14  19  29  32  36  37  49  65  75  97  102  111  132  148  151  156  163  167  178  180  187  198  213  219  230  232  239  249  283  306  313  334  335  342  356  357  361  393  395  402  421  422  424  429  445  452  457  482  486  504  509  538  550  552  561  567  568  570  580  580  581  583  596  609  610  621  621  629  649  652  681  689  694  704  704  713  722  734  756  783  794  808  818  822  841  843  847  855  856  861  862  862  874  880  899  904  923  944  953  968 \n",
            "--- 7.066488265991211 milli seconds ---\n"
          ]
        }
      ],
      "source": [
        "import time\n",
        "import random\n",
        "start_time = time.time()\n",
        "\n",
        "def bubbleSort(arr):\n",
        "    n = len(arr)\n",
        "\n",
        "    swapped = False\n",
        "\n",
        "    for i in range(n-1):\n",
        "        for j in range(0, n-i-1):\n",
        "            if arr[j] > arr[j + 1]:\n",
        "                swapped = True\n",
        "                arr[j], arr[j + 1] = arr[j + 1], arr[j]\n",
        "        if not swapped:\n",
        "            return\n",
        "\n",
        "arr = [random.randint(1, 1000) for _ in range(100)]\n",
        "\n",
        "bubbleSort(arr)\n",
        "\n",
        "print(\"Sorted array is:\")\n",
        "for i in range(len(arr)):\n",
        "    print(\"% d\" % arr[i], end=\" \")\n",
        "print()\n",
        "print(\"--- %s milli seconds ---\" % ((time.time() - start_time)*1000))"
      ]
    },
    {
      "cell_type": "code",
      "source": [
        "import time\n",
        "import random\n",
        "start_time = time.time()\n",
        "arr = [random.randint(1, 1000) for _ in range(100)]\n",
        "arr.sort()\n",
        "print(arr)\n",
        "print(\"--- %s milli seconds ---\" % ((time.time() - start_time)*1000))"
      ],
      "metadata": {
        "colab": {
          "base_uri": "https://localhost:8080/"
        },
        "id": "cFis53_oKvLX",
        "outputId": "1bf24de6-0370-4b3d-8b67-bc62c12a9534"
      },
      "execution_count": 26,
      "outputs": [
        {
          "output_type": "stream",
          "name": "stdout",
          "text": [
            "[2, 2, 9, 12, 43, 43, 45, 48, 59, 73, 98, 109, 121, 122, 139, 155, 164, 180, 183, 194, 203, 223, 228, 229, 231, 236, 255, 269, 276, 286, 308, 310, 317, 317, 317, 339, 350, 356, 367, 367, 392, 399, 408, 415, 424, 433, 438, 451, 474, 479, 519, 520, 526, 532, 537, 545, 547, 548, 597, 599, 632, 635, 651, 654, 682, 686, 686, 697, 701, 713, 738, 738, 763, 765, 766, 778, 779, 802, 813, 818, 828, 834, 847, 849, 851, 853, 861, 874, 891, 935, 944, 945, 949, 951, 951, 953, 956, 980, 989, 998]\n",
            "--- 0.42939186096191406 milli seconds ---\n"
          ]
        }
      ]
    },
    {
      "cell_type": "code",
      "source": [
        "import time\n",
        "import random\n",
        "start_time = time.time()\n",
        "def insertionSort(arr):\n",
        "    n = len(arr)\n",
        "\n",
        "    if n <= 1:\n",
        "        return\n",
        "\n",
        "    for i in range(1, n):\n",
        "        key = arr[i]\n",
        "        j = i-1\n",
        "        while j >= 0 and key < arr[j]:\n",
        "            arr[j+1] = arr[j]\n",
        "            j -= 1\n",
        "        arr[j+1] = key\n",
        "\n",
        "arr = [random.randint(1, 1000) for _ in range(100)]\n",
        "insertionSort(arr)\n",
        "print(arr)\n",
        "\n",
        "print(\"--- %s milli seconds ---\" % ((time.time() - start_time)*1000))"
      ],
      "metadata": {
        "colab": {
          "base_uri": "https://localhost:8080/"
        },
        "id": "DLGdLwqFMHrs",
        "outputId": "e1abff19-e4f0-4ae2-959c-6d401ec427fe"
      },
      "execution_count": 24,
      "outputs": [
        {
          "output_type": "stream",
          "name": "stdout",
          "text": [
            "[12, 14, 21, 21, 42, 49, 53, 65, 76, 81, 100, 106, 106, 128, 144, 155, 157, 160, 165, 167, 170, 170, 175, 178, 193, 212, 220, 225, 231, 238, 249, 250, 257, 273, 283, 295, 308, 318, 322, 328, 340, 342, 350, 360, 361, 362, 367, 373, 389, 390, 399, 403, 418, 433, 435, 437, 441, 467, 475, 505, 528, 537, 546, 555, 570, 592, 592, 616, 621, 628, 634, 636, 637, 643, 646, 673, 685, 690, 700, 716, 743, 744, 754, 760, 769, 770, 782, 825, 844, 860, 888, 905, 913, 937, 945, 954, 959, 960, 979, 982]\n",
            "--- 0.9281635284423828 milli seconds ---\n"
          ]
        }
      ]
    },
    {
      "cell_type": "code",
      "source": [],
      "metadata": {
        "id": "_iPprwh3MyZw"
      },
      "execution_count": null,
      "outputs": []
    }
  ]
}