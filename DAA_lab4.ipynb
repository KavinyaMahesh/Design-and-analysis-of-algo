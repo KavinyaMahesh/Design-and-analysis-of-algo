{
  "nbformat": 4,
  "nbformat_minor": 0,
  "metadata": {
    "colab": {
      "provenance": [],
      "authorship_tag": "ABX9TyMNlncvwpJPTL7sGOaZIh5T",
      "include_colab_link": true
    },
    "kernelspec": {
      "name": "python3",
      "display_name": "Python 3"
    },
    "language_info": {
      "name": "python"
    }
  },
  "cells": [
    {
      "cell_type": "markdown",
      "metadata": {
        "id": "view-in-github",
        "colab_type": "text"
      },
      "source": [
        "<a href=\"https://colab.research.google.com/github/KavinyaMahesh/Design-and-analysis-of-algo/blob/main/DAA_lab4.ipynb\" target=\"_parent\"><img src=\"https://colab.research.google.com/assets/colab-badge.svg\" alt=\"Open In Colab\"/></a>"
      ]
    },
    {
      "cell_type": "code",
      "execution_count": 6,
      "metadata": {
        "colab": {
          "base_uri": "https://localhost:8080/"
        },
        "id": "D4p9bLAZxsbX",
        "outputId": "ec791691-b08c-4cb5-e88d-5303b2080043"
      },
      "outputs": [
        {
          "output_type": "stream",
          "name": "stdout",
          "text": [
            "Enter the number of items: 3\n",
            "Enter benefit and weight for item 1: 2 5\n",
            "Enter benefit and weight for item 2: 3 5\n",
            "Enter benefit and weight for item 3: 4 8\n",
            "Enter the sack capacity: 9\n",
            "\n",
            "Optimal Solution:\n",
            "Maximum value in the sack: 5.0\n",
            "Items in the sack:\n",
            "  Benefit: 3 | Weight: 5 | Fraction taken: 1\n",
            "  Benefit: 4 | Weight: 8 | Fraction taken: 0.5\n"
          ]
        }
      ],
      "source": [
        "#Question1\n",
        "def fractional_knapsack(items, capacity):\n",
        "\n",
        "    items.sort(key=lambda x: x[0] / x[1], reverse=True)\n",
        "    total_value = 0\n",
        "    sack = []\n",
        "\n",
        "    for benefit, weight in items:\n",
        "        if capacity == 0:\n",
        "            break\n",
        "        fraction = min(1, capacity / weight)\n",
        "        total_value += fraction * benefit\n",
        "        sack.append((benefit, weight, fraction))\n",
        "        capacity -= fraction * weight\n",
        "\n",
        "    return total_value, sack\n",
        "\n",
        "def main():\n",
        "\n",
        "    num_items = int(input(\"Enter the number of items: \"))\n",
        "    items = []\n",
        "    for i in range(num_items):\n",
        "        benefit, weight = map(int, input(f\"Enter benefit and weight for item {i+1}: \").split())\n",
        "        items.append((benefit, weight))\n",
        "    capacity = int(input(\"Enter the sack capacity: \"))\n",
        "\n",
        "\n",
        "    max_value, sack = fractional_knapsack(items, capacity)\n",
        "    print(\"\\nOptimal Solution:\")\n",
        "    print(\"Maximum value in the sack:\", max_value)\n",
        "    print(\"Items in the sack:\")\n",
        "    for item in sack:\n",
        "        print(\"  Benefit:\", item[0], \"| Weight:\", item[1], \"| Fraction taken:\", item[2])\n",
        "\n",
        "if __name__ == \"__main__\":\n",
        "    main()\n"
      ]
    },
    {
      "cell_type": "code",
      "source": [
        "#Question2\n",
        "def selection_sort(arr):\n",
        "    n = len(arr)\n",
        "    for i in range(n):\n",
        "        min_idx = i\n",
        "        for j in range(i+1, n):\n",
        "            if arr[j] < arr[min_idx]:\n",
        "                min_idx = j\n",
        "        arr[i], arr[min_idx] = arr[min_idx], arr[i]\n",
        "\n",
        "def maximize_sum(arr):\n",
        "\n",
        "    selection_sort(arr)\n",
        "\n",
        "\n",
        "    total_sum = 0\n",
        "\n",
        "    for i in range(len(arr)):\n",
        "        total_sum += arr[i] * i\n",
        "\n",
        "    return total_sum\n",
        "\n",
        "arr = list(map(int, input(\"Enter the array of integers separated by space: \").split()))\n",
        "\n",
        "max_sum = maximize_sum(arr)\n",
        "print(\"Maximum sum:\", max_sum)\n"
      ],
      "metadata": {
        "colab": {
          "base_uri": "https://localhost:8080/"
        },
        "id": "jzlnWK5cyRsh",
        "outputId": "548ead66-953b-4a51-ddaf-5d21f65be2d9"
      },
      "execution_count": 7,
      "outputs": [
        {
          "output_type": "stream",
          "name": "stdout",
          "text": [
            "Enter the array of integers separated by space: 2 5 3 4 0\n",
            "Maximum sum: 40\n"
          ]
        }
      ]
    },
    {
      "cell_type": "code",
      "source": [
        "#Question3\n",
        "def selection_sort(arr):\n",
        "    n = len(arr)\n",
        "    for i in range(n):\n",
        "        min_idx = i\n",
        "        for j in range(i+1, n):\n",
        "            if arr[j] < arr[min_idx]:\n",
        "                min_idx = j\n",
        "        arr[i], arr[min_idx] = arr[min_idx], arr[i]\n",
        "\n",
        "def minimize_sum_product(arr1, arr2):\n",
        "\n",
        "    selection_sort(arr1)\n",
        "    selection_sort(arr2)\n",
        "\n",
        "    arr2.reverse()\n",
        "\n",
        "    total_sum = sum(arr1[i] * arr2[i] for i in range(len(arr1)))\n",
        "\n",
        "    return total_sum\n",
        "\n",
        "\n",
        "arr1 = list(map(int, input(\"Enter the first array of integers separated by space: \").split()))\n",
        "arr2 = list(map(int, input(\"Enter the second array of integers separated by space: \").split()))\n",
        "\n",
        "\n",
        "min_sum_product = minimize_sum_product(arr1, arr2)\n",
        "print(\"Minimum sum of product:\", min_sum_product)\n"
      ],
      "metadata": {
        "colab": {
          "base_uri": "https://localhost:8080/"
        },
        "id": "9JYS7hXbyUsF",
        "outputId": "f84692b0-8b2b-48ca-adb3-7edfc8649a53"
      },
      "execution_count": 8,
      "outputs": [
        {
          "output_type": "stream",
          "name": "stdout",
          "text": [
            "Enter the first array of integers separated by space: 7 5 1 4\n",
            "Enter the second array of integers separated by space: 6 17 9 3\n",
            "Minimum sum of product: 104\n"
          ]
        }
      ]
    }
  ]
}