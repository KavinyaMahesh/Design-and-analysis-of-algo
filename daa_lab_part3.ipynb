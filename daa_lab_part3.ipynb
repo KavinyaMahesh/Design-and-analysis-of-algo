{
  "nbformat": 4,
  "nbformat_minor": 0,
  "metadata": {
    "colab": {
      "provenance": [],
      "authorship_tag": "ABX9TyMqbCcxT1GSIl5YrYHInKjC",
      "include_colab_link": true
    },
    "kernelspec": {
      "name": "python3",
      "display_name": "Python 3"
    },
    "language_info": {
      "name": "python"
    }
  },
  "cells": [
    {
      "cell_type": "markdown",
      "metadata": {
        "id": "view-in-github",
        "colab_type": "text"
      },
      "source": [
        "<a href=\"https://colab.research.google.com/github/KavinyaMahesh/Design-and-analysis-of-algo/blob/main/daa_lab_part3.ipynb\" target=\"_parent\"><img src=\"https://colab.research.google.com/assets/colab-badge.svg\" alt=\"Open In Colab\"/></a>"
      ]
    },
    {
      "cell_type": "code",
      "execution_count": 10,
      "metadata": {
        "colab": {
          "base_uri": "https://localhost:8080/"
        },
        "id": "_cAnepAOlrig",
        "outputId": "3470a1b9-b093-4888-f935-8cc189e4113a"
      },
      "outputs": [
        {
          "output_type": "stream",
          "name": "stdout",
          "text": [
            "Output: [3, 5, 6, 7, 8, 9]\n",
            "Output: [3, 5, 6, 7, 8, 9]\n",
            "Output: [3, 5, 7, 6, 8, 9]\n"
          ]
        }
      ],
      "source": [
        "#1\n",
        "def find_swapped_elements(arr):\n",
        "    first, second = None, None\n",
        "    for i in range(1, len(arr)):\n",
        "        if arr[i] < arr[i - 1]:\n",
        "            if first is None:\n",
        "                first = i - 1\n",
        "            else:\n",
        "                second = i\n",
        "                break\n",
        "    if second is not None:\n",
        "        arr[first], arr[second] = arr[second], arr[first]\n",
        "\n",
        "\n",
        "A1 = [3, 8, 6, 7, 5, 9]\n",
        "find_swapped_elements(A1)\n",
        "print(\"Output:\", A1)\n",
        "\n",
        "A2 = [3, 5, 6, 9, 8, 7]\n",
        "find_swapped_elements(A2)\n",
        "print(\"Output:\", A2)\n",
        "\n",
        "A3 = [3, 5, 7, 6, 8, 9]\n",
        "find_swapped_elements(A3)\n",
        "print(\"Output:\", A3)\n"
      ]
    },
    {
      "cell_type": "code",
      "source": [
        "#2\n",
        "def max_product_pair(nums):\n",
        "    if len(nums) < 2:\n",
        "        return None\n",
        "\n",
        "    max1 = max2 = float('-inf')\n",
        "    min1 = min2 = float('inf')\n",
        "\n",
        "    for num in nums:\n",
        "        if num > max1:\n",
        "            max2 = max1\n",
        "            max1 = num\n",
        "        elif num > max2:\n",
        "            max2 = num\n",
        "\n",
        "        if num < min1:\n",
        "            min2 = min1\n",
        "            min1 = num\n",
        "        elif num < min2:\n",
        "            min2 = num\n",
        "\n",
        "    return max(max1 * max2, min1 * min2)\n",
        "\n",
        "\n",
        "arr = [1, 7, 4, 2, 8, 6, 3, 9, 5]\n",
        "print(\"Output:\", max_product_pair(arr))\n"
      ],
      "metadata": {
        "colab": {
          "base_uri": "https://localhost:8080/"
        },
        "id": "gPHk6JNOm6iF",
        "outputId": "8abb7d08-5a7c-4546-f6cb-0dcdf6294ce3"
      },
      "execution_count": 2,
      "outputs": [
        {
          "output_type": "stream",
          "name": "stdout",
          "text": [
            "Output: 72\n"
          ]
        }
      ]
    },
    {
      "cell_type": "code",
      "source": [
        "#3\n",
        "def find_swapped_elements(arr):\n",
        "    first, second = None, None\n",
        "    for i in range(1, len(arr)):\n",
        "        if arr[i] < arr[i - 1]:\n",
        "            if first is None:\n",
        "                first = i - 1\n",
        "            else:\n",
        "                second = i\n",
        "                break\n",
        "    if second is not None:\n",
        "        arr[first], arr[second] = arr[second], arr[first]\n",
        "\n",
        "# Test cases\n",
        "A1 = [3, 8, 6, 7, 5, 9]\n",
        "find_swapped_elements(A1)\n",
        "print(\"Output:\", A1)\n",
        "\n",
        "A2 = [3, 5, 6, 9, 8, 7]\n",
        "find_swapped_elements(A2)\n",
        "print(\"Output:\", A2)\n",
        "\n",
        "A3 = [3, 5, 7, 6, 8, 9]\n",
        "find_swapped_elements(A3)\n",
        "print(\"Output:\", A3)\n"
      ],
      "metadata": {
        "colab": {
          "base_uri": "https://localhost:8080/"
        },
        "id": "CHVVy7Kpm8I5",
        "outputId": "79c46240-584b-4e1b-9354-d840b288375c"
      },
      "execution_count": 13,
      "outputs": [
        {
          "output_type": "stream",
          "name": "stdout",
          "text": [
            "Output: [3, 5, 6, 7, 8, 9]\n",
            "Output: [3, 5, 6, 7, 8, 9]\n",
            "Output: [3, 5, 7, 6, 8, 9]\n"
          ]
        }
      ]
    },
    {
      "cell_type": "code",
      "source": [
        "#4\n",
        "def segregate_zeros_ones(arr):\n",
        "    left = 0\n",
        "    right = len(arr) - 1\n",
        "    while left < right:\n",
        "        if arr[left] == 1:\n",
        "            arr[left], arr[right] = arr[right], arr[left]\n",
        "            right -= 1\n",
        "        else:\n",
        "            left += 1\n",
        "\n",
        "# Test case\n",
        "binary_array = [0, 1, 0, 1, 0, 0, 1, 1, 1, 0]\n",
        "segregate_zeros_ones(binary_array)\n",
        "print(\"Output array:\", binary_array)"
      ],
      "metadata": {
        "colab": {
          "base_uri": "https://localhost:8080/"
        },
        "id": "TBTJaoyTm9yq",
        "outputId": "089f14c2-863a-460b-9816-857fcb6edd04"
      },
      "execution_count": 4,
      "outputs": [
        {
          "output_type": "stream",
          "name": "stdout",
          "text": [
            "Output array: [0, 0, 0, 0, 0, 1, 1, 1, 1, 1]\n"
          ]
        }
      ]
    },
    {
      "cell_type": "code",
      "source": [
        "#5\n",
        "def merge(left, right):\n",
        "    result = []\n",
        "    inv_count = 0\n",
        "    i = j = 0\n",
        "\n",
        "    while i < len(left) and j < len(right):\n",
        "        if left[i] <= right[j]:\n",
        "            result.append(left[i])\n",
        "            i += 1\n",
        "        else:\n",
        "            result.append(right[j])\n",
        "            inv_count += len(left) - i\n",
        "            j += 1\n",
        "\n",
        "    result.extend(left[i:])\n",
        "    result.extend(right[j:])\n",
        "\n",
        "    return result, inv_count\n",
        "\n",
        "def merge_sort_with_inversions(arr):\n",
        "    if len(arr) <= 1:\n",
        "        return arr, 0\n",
        "\n",
        "    mid = len(arr) // 2\n",
        "    left, inv_left = merge_sort_with_inversions(arr[:mid])\n",
        "    right, inv_right = merge_sort_with_inversions(arr[mid:])\n",
        "    merged, inv_merge = merge(left, right)\n",
        "\n",
        "    return merged, inv_left + inv_right + inv_merge\n",
        "\n",
        "# Test case\n",
        "A = [10, 1, 2, 4, 13, 9, 5]\n",
        "sorted_A, inversions = merge_sort_with_inversions(A)\n",
        "print(\"Total count of inversions:\", inversions)\n"
      ],
      "metadata": {
        "colab": {
          "base_uri": "https://localhost:8080/"
        },
        "id": "S1fuxeEHm_QE",
        "outputId": "f85e526c-d6be-4121-fd72-672051ed69f5"
      },
      "execution_count": 5,
      "outputs": [
        {
          "output_type": "stream",
          "name": "stdout",
          "text": [
            "Total count of inversions: 8\n"
          ]
        }
      ]
    },
    {
      "cell_type": "code",
      "source": [
        "#6a\n",
        "def has_pair_with_sum_n2(arr, K):\n",
        "    for i in range(len(arr)):\n",
        "        for j in range(i+1, len(arr)):\n",
        "            if arr[i] + arr[j] == K:\n",
        "                return True\n",
        "    return False\n",
        "\n",
        "\n",
        "arr = [8, 4, 1, 6]\n",
        "K = 10\n",
        "print(\"Output:\", has_pair_with_sum_n2(arr, K))\n"
      ],
      "metadata": {
        "id": "Us_k-dT4nA9r"
      },
      "execution_count": null,
      "outputs": []
    },
    {
      "cell_type": "code",
      "source": [
        "#6b\n",
        "def has_pair_with_sum_nlogn(arr, K):\n",
        "    arr.sort()\n",
        "    left, right = 0, len(arr) - 1\n",
        "    while left < right:\n",
        "        curr_sum = arr[left] + arr[right]\n",
        "        if curr_sum == K:\n",
        "            return True\n",
        "        elif curr_sum < K:\n",
        "            left += 1\n",
        "        else:\n",
        "            right -= 1\n",
        "    return False\n",
        "\n",
        "\n",
        "arr = [8, 4, 1, 6]\n",
        "K = 10\n",
        "print(\"Output:\", has_pair_with_sum_nlogn(arr, K))\n",
        "\n"
      ],
      "metadata": {
        "colab": {
          "base_uri": "https://localhost:8080/"
        },
        "id": "YA7FNUS0nEZC",
        "outputId": "7a78a2f0-164d-4a92-b2b3-eff2edabefd8"
      },
      "execution_count": 7,
      "outputs": [
        {
          "output_type": "stream",
          "name": "stdout",
          "text": [
            "Output: True\n"
          ]
        }
      ]
    }
  ]
}