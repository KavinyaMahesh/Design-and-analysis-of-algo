{
  "nbformat": 4,
  "nbformat_minor": 0,
  "metadata": {
    "colab": {
      "provenance": [],
      "authorship_tag": "ABX9TyP/aAIJ4S/xiC8bzk135jDW",
      "include_colab_link": true
    },
    "kernelspec": {
      "name": "python3",
      "display_name": "Python 3"
    },
    "language_info": {
      "name": "python"
    }
  },
  "cells": [
    {
      "cell_type": "markdown",
      "metadata": {
        "id": "view-in-github",
        "colab_type": "text"
      },
      "source": [
        "<a href=\"https://colab.research.google.com/github/KavinyaMahesh/Design-and-analysis-of-algo/blob/main/DAA_lab5.ipynb\" target=\"_parent\"><img src=\"https://colab.research.google.com/assets/colab-badge.svg\" alt=\"Open In Colab\"/></a>"
      ]
    },
    {
      "cell_type": "code",
      "execution_count": 7,
      "metadata": {
        "colab": {
          "base_uri": "https://localhost:8080/"
        },
        "id": "_FgfVZoczRFl",
        "outputId": "40e8ba3d-a518-4cb7-82b5-8364ab5b4e4d"
      },
      "outputs": [
        {
          "output_type": "stream",
          "name": "stdout",
          "text": [
            "Enter the number of children in the class: 3\n",
            "Enter the ratings of each student:\n",
            "1\n",
            "2\n",
            "2\n",
            "Minimum number of candies Alice must buy: 4\n"
          ]
        }
      ],
      "source": [
        "#Question1\n",
        "def candies(n, arr):\n",
        "    candies = [1] * n\n",
        "\n",
        "    for i in range(1, n):\n",
        "        if arr[i] > arr[i - 1]:\n",
        "            candies[i] = candies[i - 1] + 1\n",
        "\n",
        "    for i in range(n - 2, -1, -1):\n",
        "        if arr[i] > arr[i + 1]:\n",
        "            candies[i] = max(candies[i], candies[i + 1] + 1)\n",
        "\n",
        "    return sum(candies)\n",
        "\n",
        "def main():\n",
        "\n",
        "    n = int(input(\"Enter the number of children in the class: \"))\n",
        "    arr = []\n",
        "    print(\"Enter the ratings of each student:\")\n",
        "    for i in range(n):\n",
        "        rating = int(input())\n",
        "        arr.append(rating)\n",
        "\n",
        "    print(\"Minimum number of candies Alice must buy:\", candies(n, arr))\n",
        "\n",
        "if __name__ == \"__main__\":\n",
        "    main()\n"
      ]
    },
    {
      "cell_type": "code",
      "source": [
        "#Question2\n",
        "def maximumPeople(p, x, y, r):\n",
        "    total_sunny_population = sum(p)\n",
        "\n",
        "    for i in range(len(y)):\n",
        "        cloud_range = set(range(y[i] - r[i], y[i] + r[i] + 1))\n",
        "        total_dark_population = 0\n",
        "\n",
        "        for j in range(len(x)):\n",
        "            if x[j] in cloud_range:\n",
        "                total_dark_population += p[j]\n",
        "\n",
        "        total_sunny_population = max(total_sunny_population, total_sunny_population - total_dark_population)\n",
        "\n",
        "    return total_sunny_population\n",
        "\n",
        "def main():\n",
        "    n = int(input(\"Enter the number of towns: \"))\n",
        "\n",
        "    p = list(map(int, input(\"Enter the populations of each town: \").split()))\n",
        "    x = list(map(int, input(\"Enter the locations of each town: \").split()))\n",
        "\n",
        "    m = int(input(\"Enter the number of clouds: \"))\n",
        "\n",
        "    y = list(map(int, input(\"Enter the locations of each cloud: \").split()))\n",
        "    r = list(map(int, input(\"Enter the extents of each cloud: \").split()))\n",
        "\n",
        "    print(\"Maximum number of people in a sunny town after removing exactly one cloud:\", maximumPeople(p, x, y, r))\n",
        "\n",
        "if __name__ == \"__main__\":\n",
        "    main()\n"
      ],
      "metadata": {
        "colab": {
          "base_uri": "https://localhost:8080/"
        },
        "id": "3_9HHdPTzTdX",
        "outputId": "f1bc53b2-3818-4bb1-9a44-a821f0a89e27"
      },
      "execution_count": 6,
      "outputs": [
        {
          "output_type": "stream",
          "name": "stdout",
          "text": [
            "Enter the number of towns: 2\n",
            "Enter the populations of each town: 10 100\n",
            "Enter the locations of each town: 5 100\n",
            "Enter the number of clouds: 1\n",
            "Enter the locations of each cloud: 4\n",
            "Enter the extents of each cloud: 1\n",
            "Maximum number of people in a sunny town after removing exactly one cloud: 110\n"
          ]
        }
      ]
    },
    {
      "cell_type": "code",
      "source": [
        "#Question3\n",
        "def pylons(k, arr):\n",
        "    n = len(arr)\n",
        "    count = 0\n",
        "    i = 0\n",
        "\n",
        "    while i < n:\n",
        "        j = min(i + k - 1, n - 1)\n",
        "        while j >= i - k + 1 and arr[j] == 0:\n",
        "            j -= 1\n",
        "        if j < i - k + 1:\n",
        "            return -1\n",
        "        count += 1\n",
        "        i = j + k\n",
        "\n",
        "    return count\n",
        "\n",
        "# User input\n",
        "n, k = map(int, input(\"Enter the number of cities and the plants' range constant (separated by space): \").split())\n",
        "arr = list(map(int, input(\"Enter the binary integers indicating suitability for building a plant (separated by space): \").split()))\n",
        "\n",
        "# Output\n",
        "result = pylons(k, arr)\n",
        "if result == -1:\n",
        "    print(\"It is not possible to provide electricity to all cities with the given distribution constraint.\")\n",
        "else:\n",
        "    print(\"The minimum number of plants required to provide electricity to all cities:\", result)\n"
      ],
      "metadata": {
        "colab": {
          "base_uri": "https://localhost:8080/"
        },
        "id": "xd1gXPHyzXmn",
        "outputId": "0480f022-386f-415b-a3b3-753dd482faad"
      },
      "execution_count": 5,
      "outputs": [
        {
          "output_type": "stream",
          "name": "stdout",
          "text": [
            "Enter the number of cities and the plants' range constant (separated by space): 6 2\n",
            "Enter the binary integers indicating suitability for building a plant (separated by space): 0 1 1 1 1 0\n",
            "The minimum number of plants required to provide electricity to all cities: 2\n"
          ]
        }
      ]
    }
  ]
}